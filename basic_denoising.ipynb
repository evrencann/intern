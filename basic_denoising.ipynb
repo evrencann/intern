{
 "cells": [
  {
   "cell_type": "code",
   "execution_count": 1,
   "metadata": {},
   "outputs": [
    {
     "name": "stderr",
     "output_type": "stream",
     "text": [
      "Using TensorFlow backend.\n"
     ]
    }
   ],
   "source": [
    "from tensorflow.keras.layers import Conv2D, MaxPooling2D, UpSampling2D\n",
    "from tensorflow.keras.models import Sequential\n",
    "import numpy as np\n",
    "import matplotlib.pyplot as plt\n",
    "import os\n",
    "import cv2\n",
    "from keras.preprocessing.image import img_to_array\n",
    "from tqdm import tqdm"
   ]
  },
  {
   "cell_type": "code",
   "execution_count": 2,
   "metadata": {},
   "outputs": [],
   "source": [
    "h = 64       # height\n",
    "w  = 256     # width"
   ]
  },
  {
   "cell_type": "code",
   "execution_count": 3,
   "metadata": {},
   "outputs": [
    {
     "name": "stderr",
     "output_type": "stream",
     "text": [
      "100%|████████████████████████████████████████████████████████████████████████████| 69071/69071 [19:25<00:00, 59.27it/s]\n"
     ]
    }
   ],
   "source": [
    "clean_data = []\n",
    "path1 = 'D:\\\\intern\\\\classified_data\\\\clean_data\\\\clean_data\\\\'\n",
    "files = os.listdir(path1)\n",
    "for i in tqdm(files):\n",
    "    img = cv2.imread(path1+i,0)   # change 0 to 1 for images\n",
    "    img = cv2.resize(img,(h,w))\n",
    "    clean_data.append(img_to_array(img))"
   ]
  },
  {
   "cell_type": "code",
   "execution_count": 5,
   "metadata": {},
   "outputs": [
    {
     "name": "stderr",
     "output_type": "stream",
     "text": [
      "100%|████████████████████████████████████████████████████████████████████████████| 69075/69075 [35:11<00:00, 32.72it/s]\n"
     ]
    }
   ],
   "source": [
    "noisy_data = []\n",
    "path2 = 'D:\\\\intern\\\\classified_data\\\\noisy_data\\\\15dB\\\\15dB\\\\'\n",
    "files = os.listdir(path2)\n",
    "for i in tqdm(files):\n",
    "    img = cv2.imread(path2+i,0)   # change 0 to 1 for images\n",
    "    img = cv2.resize(img,(h,w))\n",
    "    noisy_data.append(img_to_array(img))"
   ]
  },
  {
   "cell_type": "code",
   "execution_count": 6,
   "metadata": {},
   "outputs": [
    {
     "ename": "MemoryError",
     "evalue": "Unable to allocate 4.22 GiB for an array with shape (69071, 64, 256, 1) and data type float32",
     "output_type": "error",
     "traceback": [
      "\u001b[1;31m---------------------------------------------------------------------------\u001b[0m",
      "\u001b[1;31mMemoryError\u001b[0m                               Traceback (most recent call last)",
      "\u001b[1;32m<ipython-input-6-9ec4bc291d58>\u001b[0m in \u001b[0;36m<module>\u001b[1;34m\u001b[0m\n\u001b[0;32m      3\u001b[0m \u001b[1;33m\u001b[0m\u001b[0m\n\u001b[0;32m      4\u001b[0m \u001b[0mclean_train\u001b[0m \u001b[1;33m=\u001b[0m \u001b[0mnp\u001b[0m\u001b[1;33m.\u001b[0m\u001b[0mreshape\u001b[0m\u001b[1;33m(\u001b[0m\u001b[0mclean_data\u001b[0m\u001b[1;33m,\u001b[0m \u001b[1;33m(\u001b[0m\u001b[0mlen\u001b[0m\u001b[1;33m(\u001b[0m\u001b[0mclean_data\u001b[0m\u001b[1;33m)\u001b[0m\u001b[1;33m,\u001b[0m \u001b[0mh\u001b[0m\u001b[1;33m,\u001b[0m \u001b[0mw\u001b[0m\u001b[1;33m,\u001b[0m \u001b[1;36m1\u001b[0m\u001b[1;33m)\u001b[0m\u001b[1;33m)\u001b[0m\u001b[1;33m\u001b[0m\u001b[1;33m\u001b[0m\u001b[0m\n\u001b[1;32m----> 5\u001b[1;33m \u001b[0mclean_train\u001b[0m \u001b[1;33m=\u001b[0m \u001b[0mclean_train\u001b[0m\u001b[1;33m.\u001b[0m\u001b[0mastype\u001b[0m\u001b[1;33m(\u001b[0m\u001b[1;34m'float32'\u001b[0m\u001b[1;33m)\u001b[0m \u001b[1;33m/\u001b[0m \u001b[1;36m255.\u001b[0m\u001b[1;33m\u001b[0m\u001b[1;33m\u001b[0m\u001b[0m\n\u001b[0m",
      "\u001b[1;31mMemoryError\u001b[0m: Unable to allocate 4.22 GiB for an array with shape (69071, 64, 256, 1) and data type float32"
     ]
    }
   ],
   "source": [
    "noisy_train = np.reshape(noisy_data, (len(noisy_data), h, w, 1))\n",
    "noisy_train = noisy_train.astype('float32') / 255.\n",
    "\n",
    "clean_train = np.reshape(clean_data, (len(clean_data), h, w, 1))\n",
    "clean_train = clean_train.astype('float32') / 255."
   ]
  },
  {
   "cell_type": "code",
   "execution_count": null,
   "metadata": {},
   "outputs": [],
   "source": [
    "# Displaying images with noise\n",
    "plt.figure(figsize=(10,2))\n",
    "for i in range(1,4):\n",
    "    ax = plt.subplot(1,4,i)\n",
    "    plt.imshow(noisy_train[i].reshape(h,w), cmap='binary')\n",
    "plt.show()"
   ]
  },
  {
   "cell_type": "code",
   "execution_count": null,
   "metadata": {},
   "outputs": [],
   "source": [
    "# Displaying images with noise\n",
    "plt.figure(figsize=(10,2))\n",
    "for i in range(1,4):\n",
    "    ax = plt.subplot(1,4,i)\n",
    "    plt.imshow(clean_train[i].reshape(h,w), cmap='binary')\n",
    "plt.show()"
   ]
  },
  {
   "cell_type": "code",
   "execution_count": null,
   "metadata": {},
   "outputs": [],
   "source": [
    "model = Sequential()\n",
    "model.add(Conv2D(32, (3,3), activation='relu', padding='same', input_shape=(h,w,1)))\n",
    "model.add(MaxPooling2D((2,2), padding='same'))\n",
    "model.add(Conv2D(8, (3,3), activation='relu', padding='same'))\n",
    "model.add(MaxPooling2D((2,2), padding='same'))\n",
    "model.add(Conv2D(8, (3,3), activation='relu', padding='same'))\n",
    "\n",
    "model.add(MaxPooling2D((2,2), padding='same'))\n",
    "\n",
    "model.add(Conv2D(8, (3,3), activation='relu', padding='same'))\n",
    "model.add(UpSampling2D((2,2)))\n",
    "model.add(Conv2D(8, (3,3), activation='relu', padding='same'))\n",
    "model.add(UpSampling2D((2,2)))\n",
    "model.add(Conv2D(32, (3,3), activation='relu', padding='same'))\n",
    "model.add(UpSampling2D((2,2)))\n",
    "model.add(Conv2D(1, (3,3), activation='relu', padding='same'))\n",
    "\n",
    "model.compile(optimizer='adam', loss='mse', metrics=['accuracy'])\n",
    "\n",
    "model.summary()"
   ]
  },
  {
   "cell_type": "code",
   "execution_count": null,
   "metadata": {},
   "outputs": [],
   "source": [
    "from sklearn.model_selection import train_test_split\n",
    "x_train, x_test, y_train, y_test = train_test_split(noisy_train, cleantrain,\n",
    "                                                   test_size = 0.20, random_state = 0)"
   ]
  },
  {
   "cell_type": "code",
   "execution_count": null,
   "metadata": {},
   "outputs": [],
   "source": [
    "model.fit(x_train, y_train, epochs=10, batch_size=8, shuffle=True, verbose=1, \n",
    "         validation_split= 0.1)"
   ]
  },
  {
   "cell_type": "code",
   "execution_count": null,
   "metadata": {},
   "outputs": [],
   "source": [
    "print(f'Test_Accuracy: {model.evaluate(np.array(np.array(x_test), np.array(y_test))[1]*100)}')"
   ]
  },
  {
   "cell_type": "code",
   "execution_count": null,
   "metadata": {},
   "outputs": [],
   "source": [
    "model.save('denoising_autoencoder.model')"
   ]
  },
  {
   "cell_type": "code",
   "execution_count": null,
   "metadata": {},
   "outputs": [],
   "source": [
    "no_noise_img = model.predict(x_test)"
   ]
  },
  {
   "cell_type": "code",
   "execution_count": null,
   "metadata": {},
   "outputs": [],
   "source": [
    "plt.imshow(no_noise_img[i].reshape(h,w), cmap='gray')"
   ]
  }
 ],
 "metadata": {
  "kernelspec": {
   "display_name": "Python 3",
   "language": "python",
   "name": "python3"
  },
  "language_info": {
   "codemirror_mode": {
    "name": "ipython",
    "version": 3
   },
   "file_extension": ".py",
   "mimetype": "text/x-python",
   "name": "python",
   "nbconvert_exporter": "python",
   "pygments_lexer": "ipython3",
   "version": "3.7.7"
  }
 },
 "nbformat": 4,
 "nbformat_minor": 4
}
