{
 "cells": [
  {
   "cell_type": "code",
   "execution_count": null,
   "metadata": {},
   "outputs": [],
   "source": [
    "from keras.callbacks import ModelCheckpoing\n",
    "checkpoint = ModelCheckpoint(\n",
    "    '../weight-improvement-{epoch:02d}-{val_acc:.2f}.hdf5'\n",
    "    #file directory u you want to save in\n",
    "    monitor='val_acc',\n",
    "    verbose=1,\n",
    "    save_best_only=True #saving only when val_acc improves\n",
    "    mode='max' #because we try to incriase val_acc\n",
    "           #if we worked with loss then mode would be 'min'\n",
    ")    \n",
    "callbacks_list = [checkpoint]\n",
    "\n",
    "\n",
    "model.fit(..\n",
    "         ..\n",
    "         callbacks = callbacks_list)"
   ]
  },
  {
   "cell_type": "code",
   "execution_count": null,
   "metadata": {},
   "outputs": [],
   "source": [
    "from keras.callbacks import ModelCheckpoint, EarlyStopping\n",
    "\n",
    "early_stop = EarlyStopping(\n",
    "    monitor='val_loss',\n",
    "    patience=3, \n",
    "    #n of epochs with no improvement after which training wil be stopped\n",
    "    verbose=1\n",
    "    )\n",
    "\n",
    "cellbacks_list = [checkpoint, early_stop]\n",
    "\n",
    "model.fit(..\n",
    "         ..\n",
    "         callbacks = callbacks_list)"
   ]
  },
  {
   "cell_type": "code",
   "execution_count": null,
   "metadata": {},
   "outputs": [],
   "source": [
    "from keras.callbacks import CSVLogger\n",
    "\n",
    "# creates a CSV file of all the logs\n",
    "# logs epocs, acc, loss, val_acc, val_loss\n",
    "log_csv = CSVLogger('my_logs.csv', \n",
    "                    separator=',',\n",
    "                   append=False\n",
    "                   )\n",
    "\n",
    "callbacks_list = [checkpoint, early_stop, log_csv]\n",
    "\n",
    "model.fit(..\n",
    "         ..\n",
    "         callbacks = callbacks_list)"
   ]
  }
 ],
 "metadata": {
  "kernelspec": {
   "display_name": "Python 3",
   "language": "python",
   "name": "python3"
  },
  "language_info": {
   "codemirror_mode": {
    "name": "ipython",
    "version": 3
   },
   "file_extension": ".py",
   "mimetype": "text/x-python",
   "name": "python",
   "nbconvert_exporter": "python",
   "pygments_lexer": "ipython3",
   "version": "3.7.7"
  }
 },
 "nbformat": 4,
 "nbformat_minor": 4
}
