{
 "cells": [
  {
   "cell_type": "code",
   "execution_count": 1,
   "metadata": {},
   "outputs": [],
   "source": [
    "from tensorflow.keras.layers import Conv2D, MaxPooling2D, UpSampling2D\n",
    "from tensorflow.keras.models import Sequential"
   ]
  },
  {
   "cell_type": "code",
   "execution_count": 2,
   "metadata": {},
   "outputs": [],
   "source": [
    "height = 64\n",
    "width = 256\n",
    "channel = 3"
   ]
  },
  {
   "cell_type": "code",
   "execution_count": null,
   "metadata": {},
   "outputs": [],
   "source": [
    "model = Sequential([\n",
    "    \n",
    "    # encoder\n",
    "    Conv2D(64, (3,3), padding=\"same\", activation=\"relu\", input_shape=(height,width,channel)),\n",
    "    Conv2D(64, (3,3), padding=\"same\", activation=\"relu\"),\n",
    "    MaxPooling2D((2,2),strides=(2,2)),\n",
    "    Conv2D(128, (3,3), padding=\"same\", activation=\"relu\"),\n",
    "    Conv2D(128, (3,3), padding=\"same\", activation=\"relu\"),\n",
    "    MaxPooling2D((2,2),strides=(2,2)),\n",
    "    Conv2D(256, (3,3), padding=\"same\", activation=\"relu\"),\n",
    "    Conv2D(256, (3,3), padding=\"same\", activation=\"relu\"),\n",
    "    Conv2D(256, (3,3), padding=\"same\", activation=\"relu\"),\n",
    "    MaxPooling2D((2,2),strides=(2,2)),\n",
    "    Conv2D(512, (3,3), padding=\"same\", activation=\"relu\"),\n",
    "    Conv2D(512, (3,3), padding=\"same\", activation=\"relu\"),\n",
    "    Conv2D(512, (3,3), padding=\"same\", activation=\"relu\"),\n",
    "    MaxPooling2D((2,2),strides=(2,2)),\n",
    "    Conv2D(512, (3,3), padding=\"same\", activation=\"relu\"),\n",
    "    Conv2D(512, (3,3), padding=\"same\", activation=\"relu\"),\n",
    "    Conv2D(512, (3,3), padding=\"same\", activation=\"relu\"),\n",
    "    MaxPooling2D((2,2),strides=(2,2)),\n",
    "    \n",
    "\n",
    "    # decoder\n",
    "    Conv2D(512, (3,3), padding=\"same\", activation=\"relu\"),\n",
    "    Conv2D(512, (3,3), padding=\"same\", activation=\"relu\"),\n",
    "    Conv2D(512, (3,3), padding=\"same\", activation=\"relu\"),\n",
    "    UpSampling2D((2,2)),\n",
    "    Conv2D(512, (3,3), padding=\"same\", activation=\"relu\"),\n",
    "    Conv2D(512, (3,3), padding=\"same\", activation=\"relu\"),\n",
    "    Conv2D(512, (3,3), padding=\"same\", activation=\"relu\"),\n",
    "    UpSampling2D((2,2)),\n",
    "    Conv2D(256, (3,3), padding=\"same\", activation=\"relu\"),\n",
    "    Conv2D(256, (3,3), padding=\"same\", activation=\"relu\"),\n",
    "    Conv2D(256, (3,3), padding=\"same\", activation=\"relu\"),\n",
    "    UpSampling2D((2,2)),\n",
    "    Conv2D(128, (3,3), padding=\"same\", activation=\"relu\"),\n",
    "    Conv2D(128, (3,3), padding=\"same\", activation=\"relu\"),\n",
    "    UpSampling2D((2,2)),\n",
    "    Conv2D(64, (3,3), padding=\"same\", activation=\"relu\"),\n",
    "    Conv2D(64, (3,3), padding=\"same\", activation=\"relu\"),\n",
    "    UpSampling2D((2,2)),\n",
    "    \n",
    "    Conv2D(3, (3,3), padding=\"same\", activation=\"relu\")\n",
    "    \n",
    "])"
   ]
  },
  {
   "cell_type": "code",
   "execution_count": null,
   "metadata": {},
   "outputs": [],
   "source": [
    "model.summary()"
   ]
  },
  {
   "cell_type": "code",
   "execution_count": null,
   "metadata": {},
   "outputs": [],
   "source": []
  }
 ],
 "metadata": {
  "kernelspec": {
   "display_name": "Python 3",
   "language": "python",
   "name": "python3"
  },
  "language_info": {
   "codemirror_mode": {
    "name": "ipython",
    "version": 3
   },
   "file_extension": ".py",
   "mimetype": "text/x-python",
   "name": "python",
   "nbconvert_exporter": "python",
   "pygments_lexer": "ipython3",
   "version": "3.7.7"
  }
 },
 "nbformat": 4,
 "nbformat_minor": 4
}
