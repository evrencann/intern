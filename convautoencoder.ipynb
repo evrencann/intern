{
 "cells": [
  {
   "cell_type": "code",
   "execution_count": 1,
   "metadata": {},
   "outputs": [
    {
     "name": "stderr",
     "output_type": "stream",
     "text": [
      "Using TensorFlow backend.\n"
     ]
    }
   ],
   "source": [
    "from keras.layers import Input, Dense\n",
    "from keras.models import Model\n",
    "\n",
    "# this is the size of our encoded representations\n",
    "encoding_dim = 32  # 32 floats -> compression of factor 24.5, assuming the input is 784 floats\n",
    "\n",
    "# this is our input placeholder\n",
    "input_img = Input(shape=(784,))\n",
    "# \"encoded\" is the encoded representation of the input\n",
    "encoded = Dense(encoding_dim, activation='relu')(input_img)\n",
    "# \"decoded\" is the lossy reconstruction of the input\n",
    "decoded = Dense(784, activation='sigmoid')(encoded)\n",
    "\n",
    "# this model maps an input to its reconstruction\n",
    "autoencoder = Model(input_img, decoded)"
   ]
  },
  {
   "cell_type": "code",
   "execution_count": 2,
   "metadata": {},
   "outputs": [],
   "source": [
    "# this model maps an input to its encoded representation\n",
    "encoder = Model(input_img, encoded)"
   ]
  },
  {
   "cell_type": "code",
   "execution_count": 3,
   "metadata": {},
   "outputs": [],
   "source": [
    "# create a placeholder for an encoded (32-dimensional) input\n",
    "encoded_input = Input(shape=(encoding_dim,))\n",
    "# retrieve the last layer of the autoencoder model\n",
    "decoder_layer = autoencoder.layers[-1]\n",
    "# create the decoder model\n",
    "decoder = Model(encoded_input, decoder_layer(encoded_input))"
   ]
  },
  {
   "cell_type": "code",
   "execution_count": 4,
   "metadata": {},
   "outputs": [],
   "source": [
    "autoencoder.compile(optimizer='adadelta', loss='binary_crossentropy')"
   ]
  },
  {
   "cell_type": "code",
   "execution_count": 5,
   "metadata": {},
   "outputs": [],
   "source": [
    "from keras.datasets import mnist\n",
    "import numpy as np\n",
    "(x_train, _), (x_test, _) = mnist.load_data()"
   ]
  },
  {
   "cell_type": "code",
   "execution_count": 6,
   "metadata": {},
   "outputs": [
    {
     "name": "stdout",
     "output_type": "stream",
     "text": [
      "(60000, 784)\n",
      "(10000, 784)\n"
     ]
    }
   ],
   "source": [
    "x_train = x_train.astype('float32') / 255.\n",
    "x_test = x_test.astype('float32') / 255.\n",
    "x_train = x_train.reshape((len(x_train), np.prod(x_train.shape[1:])))\n",
    "x_test = x_test.reshape((len(x_test), np.prod(x_test.shape[1:])))\n",
    "print(x_train.shape)\n",
    "print(x_test.shape)"
   ]
  },
  {
   "cell_type": "code",
   "execution_count": 7,
   "metadata": {},
   "outputs": [
    {
     "name": "stdout",
     "output_type": "stream",
     "text": [
      "Train on 60000 samples, validate on 10000 samples\n",
      "Epoch 1/50\n",
      "60000/60000 [==============================] - 3s 45us/step - loss: 0.3611 - val_loss: 0.2712\n",
      "Epoch 2/50\n",
      "60000/60000 [==============================] - 2s 39us/step - loss: 0.2637 - val_loss: 0.2523\n",
      "Epoch 3/50\n",
      "60000/60000 [==============================] - 2s 40us/step - loss: 0.2413 - val_loss: 0.2282\n",
      "Epoch 4/50\n",
      "60000/60000 [==============================] - 2s 40us/step - loss: 0.2206 - val_loss: 0.2110\n",
      "Epoch 5/50\n",
      "60000/60000 [==============================] - 2s 38us/step - loss: 0.2063 - val_loss: 0.1988\n",
      "Epoch 6/50\n",
      "60000/60000 [==============================] - 2s 41us/step - loss: 0.1957 - val_loss: 0.1897\n",
      "Epoch 7/50\n",
      "60000/60000 [==============================] - 2s 40us/step - loss: 0.1874 - val_loss: 0.1823\n",
      "Epoch 8/50\n",
      "60000/60000 [==============================] - 2s 39us/step - loss: 0.1807 - val_loss: 0.1762\n",
      "Epoch 9/50\n",
      "60000/60000 [==============================] - 2s 39us/step - loss: 0.1751 - val_loss: 0.1709\n",
      "Epoch 10/50\n",
      "60000/60000 [==============================] - 2s 35us/step - loss: 0.1702 - val_loss: 0.1663\n",
      "Epoch 11/50\n",
      "60000/60000 [==============================] - 2s 35us/step - loss: 0.1657 - val_loss: 0.1622\n",
      "Epoch 12/50\n",
      "60000/60000 [==============================] - 2s 35us/step - loss: 0.1616 - val_loss: 0.1582\n",
      "Epoch 13/50\n",
      "60000/60000 [==============================] - 2s 36us/step - loss: 0.1578 - val_loss: 0.1546\n",
      "Epoch 14/50\n",
      "60000/60000 [==============================] - 2s 36us/step - loss: 0.1543 - val_loss: 0.1511\n",
      "Epoch 15/50\n",
      "60000/60000 [==============================] - 2s 37us/step - loss: 0.1510 - val_loss: 0.1479\n",
      "Epoch 16/50\n",
      "60000/60000 [==============================] - 2s 40us/step - loss: 0.1479 - val_loss: 0.1449\n",
      "Epoch 17/50\n",
      "60000/60000 [==============================] - 2s 37us/step - loss: 0.1451 - val_loss: 0.1422\n",
      "Epoch 18/50\n",
      "60000/60000 [==============================] - 2s 36us/step - loss: 0.1423 - val_loss: 0.1395\n",
      "Epoch 19/50\n",
      "60000/60000 [==============================] - 2s 36us/step - loss: 0.1397 - val_loss: 0.1370\n",
      "Epoch 20/50\n",
      "60000/60000 [==============================] - 2s 37us/step - loss: 0.1372 - val_loss: 0.1346\n",
      "Epoch 21/50\n",
      "60000/60000 [==============================] - 2s 38us/step - loss: 0.1349 - val_loss: 0.1321\n",
      "Epoch 22/50\n",
      "60000/60000 [==============================] - 2s 36us/step - loss: 0.1326 - val_loss: 0.1299\n",
      "Epoch 23/50\n",
      "60000/60000 [==============================] - 2s 38us/step - loss: 0.1304 - val_loss: 0.1278\n",
      "Epoch 24/50\n",
      "60000/60000 [==============================] - 2s 37us/step - loss: 0.1284 - val_loss: 0.1258\n",
      "Epoch 25/50\n",
      "60000/60000 [==============================] - 2s 38us/step - loss: 0.1264 - val_loss: 0.1238\n",
      "Epoch 26/50\n",
      "60000/60000 [==============================] - 2s 38us/step - loss: 0.1246 - val_loss: 0.1220\n",
      "Epoch 27/50\n",
      "60000/60000 [==============================] - 2s 38us/step - loss: 0.1228 - val_loss: 0.1203\n",
      "Epoch 28/50\n",
      "60000/60000 [==============================] - 2s 37us/step - loss: 0.1212 - val_loss: 0.1187\n",
      "Epoch 29/50\n",
      "60000/60000 [==============================] - 2s 36us/step - loss: 0.1196 - val_loss: 0.1172\n",
      "Epoch 30/50\n",
      "60000/60000 [==============================] - 2s 38us/step - loss: 0.1182 - val_loss: 0.1158\n",
      "Epoch 31/50\n",
      "60000/60000 [==============================] - 2s 37us/step - loss: 0.1169 - val_loss: 0.1145\n",
      "Epoch 32/50\n",
      "60000/60000 [==============================] - 2s 37us/step - loss: 0.1156 - val_loss: 0.1133\n",
      "Epoch 33/50\n",
      "60000/60000 [==============================] - 2s 36us/step - loss: 0.1145 - val_loss: 0.1122\n",
      "Epoch 34/50\n",
      "60000/60000 [==============================] - 2s 37us/step - loss: 0.1134 - val_loss: 0.1112\n",
      "Epoch 35/50\n",
      "60000/60000 [==============================] - 2s 38us/step - loss: 0.1124 - val_loss: 0.1102\n",
      "Epoch 36/50\n",
      "60000/60000 [==============================] - 2s 37us/step - loss: 0.1115 - val_loss: 0.1093\n",
      "Epoch 37/50\n",
      "60000/60000 [==============================] - 2s 36us/step - loss: 0.1106 - val_loss: 0.1085\n",
      "Epoch 38/50\n",
      "60000/60000 [==============================] - 2s 36us/step - loss: 0.1098 - val_loss: 0.1077\n",
      "Epoch 39/50\n",
      "60000/60000 [==============================] - 2s 37us/step - loss: 0.1091 - val_loss: 0.1070\n",
      "Epoch 40/50\n",
      "60000/60000 [==============================] - 2s 37us/step - loss: 0.1084 - val_loss: 0.1063\n",
      "Epoch 41/50\n",
      "60000/60000 [==============================] - 2s 38us/step - loss: 0.1077 - val_loss: 0.1057\n",
      "Epoch 42/50\n",
      "60000/60000 [==============================] - 2s 37us/step - loss: 0.1071 - val_loss: 0.1051\n",
      "Epoch 43/50\n",
      "60000/60000 [==============================] - 2s 37us/step - loss: 0.1066 - val_loss: 0.1046\n",
      "Epoch 44/50\n",
      "60000/60000 [==============================] - 2s 35us/step - loss: 0.1060 - val_loss: 0.1040\n",
      "Epoch 45/50\n",
      "60000/60000 [==============================] - 2s 36us/step - loss: 0.1055 - val_loss: 0.1035\n",
      "Epoch 46/50\n",
      "60000/60000 [==============================] - 2s 37us/step - loss: 0.1050 - val_loss: 0.1030\n",
      "Epoch 47/50\n",
      "60000/60000 [==============================] - 2s 36us/step - loss: 0.1046 - val_loss: 0.1026\n",
      "Epoch 48/50\n",
      "60000/60000 [==============================] - 2s 36us/step - loss: 0.1041 - val_loss: 0.1022\n",
      "Epoch 49/50\n",
      "60000/60000 [==============================] - 2s 36us/step - loss: 0.1037 - val_loss: 0.1018\n",
      "Epoch 50/50\n",
      "60000/60000 [==============================] - 2s 37us/step - loss: 0.1033 - val_loss: 0.1014\n"
     ]
    },
    {
     "data": {
      "text/plain": [
       "<keras.callbacks.callbacks.History at 0x2cd916ce508>"
      ]
     },
     "execution_count": 7,
     "metadata": {},
     "output_type": "execute_result"
    }
   ],
   "source": [
    "autoencoder.fit(x_train, x_train,\n",
    "                epochs=50,\n",
    "                batch_size=256,\n",
    "                shuffle=True,\n",
    "                validation_data=(x_test, x_test))"
   ]
  },
  {
   "cell_type": "code",
   "execution_count": 8,
   "metadata": {},
   "outputs": [],
   "source": [
    "# encode and decode some digits\n",
    "# note that we take them from the *test* set\n",
    "encoded_imgs = encoder.predict(x_test)\n",
    "decoded_imgs = decoder.predict(encoded_imgs)"
   ]
  },
  {
   "cell_type": "code",
   "execution_count": 9,
   "metadata": {},
   "outputs": [
    {
     "data": {
      "image/png": "[encoded data removed]",
      "text/plain": [
       "<Figure size 1440x288 with 20 Axes>"
      ]
     },
     "metadata": {
      "needs_background": "light"
     },
     "output_type": "display_data"
    }
   ],
   "source": [
    "# use Matplotlib (don't ask)\n",
    "import matplotlib.pyplot as plt\n",
    "\n",
    "n = 10  # how many digits we will display\n",
    "plt.figure(figsize=(20, 4))\n",
    "for i in range(n):\n",
    "    # display original\n",
    "    ax = plt.subplot(2, n, i + 1)\n",
    "    plt.imshow(x_test[i].reshape(28, 28))\n",
    "    plt.gray()\n",
    "    ax.get_xaxis().set_visible(False)\n",
    "    ax.get_yaxis().set_visible(False)\n",
    "\n",
    "    # display reconstruction\n",
    "    ax = plt.subplot(2, n, i + 1 + n)\n",
    "    plt.imshow(decoded_imgs[i].reshape(28, 28))\n",
    "    plt.gray()\n",
    "    ax.get_xaxis().set_visible(False)\n",
    "    ax.get_yaxis().set_visible(False)\n",
    "plt.show()"
   ]
  },
  {
   "cell_type": "code",
   "execution_count": 10,
   "metadata": {},
   "outputs": [],
   "source": [
    "from keras.layers import Input, Dense, Conv2D, MaxPooling2D, UpSampling2D\n",
    "from keras.models import Model\n",
    "from keras import backend as K\n",
    "\n",
    "input_img = Input(shape=(28, 28, 1))  # adapt this if using `channels_first` image data format\n",
    "\n",
    "x = Conv2D(16, (3, 3), activation='relu', padding='same')(input_img)\n",
    "x = MaxPooling2D((2, 2), padding='same')(x)\n",
    "x = Conv2D(8, (3, 3), activation='relu', padding='same')(x)\n",
    "x = MaxPooling2D((2, 2), padding='same')(x)\n",
    "x = Conv2D(8, (3, 3), activation='relu', padding='same')(x)\n",
    "encoded = MaxPooling2D((2, 2), padding='same')(x)\n",
    "\n",
    "# at this point the representation is (4, 4, 8) i.e. 128-dimensional\n",
    "\n",
    "x = Conv2D(8, (3, 3), activation='relu', padding='same')(encoded)\n",
    "x = UpSampling2D((2, 2))(x)\n",
    "x = Conv2D(8, (3, 3), activation='relu', padding='same')(x)\n",
    "x = UpSampling2D((2, 2))(x)\n",
    "x = Conv2D(16, (3, 3), activation='relu')(x)\n",
    "x = UpSampling2D((2, 2))(x)\n",
    "decoded = Conv2D(1, (3, 3), activation='sigmoid', padding='same')(x)\n",
    "\n",
    "autoencoder = Model(input_img, decoded)\n",
    "autoencoder.compile(optimizer='adadelta', loss='binary_crossentropy')"
   ]
  },
  {
   "cell_type": "code",
   "execution_count": 11,
   "metadata": {},
   "outputs": [],
   "source": [
    "from keras.datasets import mnist\n",
    "import numpy as np\n",
    "\n",
    "(x_train, _), (x_test, _) = mnist.load_data()\n",
    "\n",
    "x_train = x_train.astype('float32') / 255.\n",
    "x_test = x_test.astype('float32') / 255.\n",
    "x_train = np.reshape(x_train, (len(x_train), 28, 28, 1))  # adapt this if using `channels_first` image data format\n",
    "x_test = np.reshape(x_test, (len(x_test), 28, 28, 1))  # adapt this if using `channels_first` image data format"
   ]
  },
  {
   "cell_type": "code",
   "execution_count": 12,
   "metadata": {},
   "outputs": [],
   "source": [
    "from keras.datasets import mnist\n",
    "import numpy as np\n",
    "\n",
    "(x_train, _), (x_test, _) = mnist.load_data()\n",
    "\n",
    "x_train = x_train.astype('float32') / 255.\n",
    "x_test = x_test.astype('float32') / 255.\n",
    "x_train = np.reshape(x_train, (len(x_train), 28, 28, 1))  # adapt this if using `channels_first` image data format\n",
    "x_test = np.reshape(x_test, (len(x_test), 28, 28, 1))  # adapt this if using `channels_first` image data format\n",
    "\n",
    "noise_factor = 0.5\n",
    "x_train_noisy = x_train + noise_factor * np.random.normal(loc=0.0, scale=1.0, size=x_train.shape) \n",
    "x_test_noisy = x_test + noise_factor * np.random.normal(loc=0.0, scale=1.0, size=x_test.shape) \n",
    "\n",
    "x_train_noisy = np.clip(x_train_noisy, 0., 1.)\n",
    "x_test_noisy = np.clip(x_test_noisy, 0., 1.)"
   ]
  },
  {
   "cell_type": "code",
   "execution_count": 13,
   "metadata": {},
   "outputs": [
    {
     "data": {
      "image/png": "[encoded data removed]",
      "text/plain": [
       "<Figure size 1440x144 with 10 Axes>"
      ]
     },
     "metadata": {
      "needs_background": "light"
     },
     "output_type": "display_data"
    }
   ],
   "source": [
    "n = 10\n",
    "plt.figure(figsize=(20, 2))\n",
    "for i in range(n):\n",
    "    ax = plt.subplot(1, n, i+1)\n",
    "    plt.imshow(x_test_noisy[i].reshape(28, 28))\n",
    "    plt.gray()\n",
    "    ax.get_xaxis().set_visible(False)\n",
    "    ax.get_yaxis().set_visible(False)\n",
    "plt.show()"
   ]
  },
  {
   "cell_type": "code",
   "execution_count": 14,
   "metadata": {},
   "outputs": [],
   "source": [
    "input_img = Input(shape=(28, 28, 1))  # adapt this if using `channels_first` image data format\n",
    "\n",
    "x = Conv2D(32, (3, 3), activation='relu', padding='same')(input_img)\n",
    "x = MaxPooling2D((2, 2), padding='same')(x)\n",
    "x = Conv2D(32, (3, 3), activation='relu', padding='same')(x)\n",
    "encoded = MaxPooling2D((2, 2), padding='same')(x)\n",
    "\n",
    "# at this point the representation is (7, 7, 32)\n",
    "\n",
    "x = Conv2D(32, (3, 3), activation='relu', padding='same')(encoded)\n",
    "x = UpSampling2D((2, 2))(x)\n",
    "x = Conv2D(32, (3, 3), activation='relu', padding='same')(x)\n",
    "x = UpSampling2D((2, 2))(x)\n",
    "decoded = Conv2D(1, (3, 3), activation='sigmoid', padding='same')(x)\n",
    "\n",
    "autoencoder = Model(input_img, decoded)\n",
    "autoencoder.compile(optimizer='adadelta', loss='binary_crossentropy')"
   ]
  },
  {
   "cell_type": "code",
   "execution_count": 15,
   "metadata": {},
   "outputs": [
    {
     "name": "stdout",
     "output_type": "stream",
     "text": [
      "Train on 60000 samples, validate on 10000 samples\n",
      "Epoch 1/50\n",
      "60000/60000 [==============================] - 190s 3ms/step - loss: 0.1788 - val_loss: 0.1257\n",
      "Epoch 2/50\n",
      "60000/60000 [==============================] - 191s 3ms/step - loss: 0.1178 - val_loss: 0.1112\n",
      "Epoch 3/50\n",
      "60000/60000 [==============================] - 192s 3ms/step - loss: 0.1109 - val_loss: 0.1106\n",
      "Epoch 4/50\n",
      "60000/60000 [==============================] - 202s 3ms/step - loss: 0.1074 - val_loss: 0.1046\n",
      "Epoch 5/50\n",
      "60000/60000 [==============================] - 210s 4ms/step - loss: 0.1054 - val_loss: 0.1049\n",
      "Epoch 6/50\n",
      "60000/60000 [==============================] - 218s 4ms/step - loss: 0.1037 - val_loss: 0.1011\n",
      "Epoch 7/50\n",
      "60000/60000 [==============================] - 218s 4ms/step - loss: 0.1026 - val_loss: 0.1034\n",
      "Epoch 8/50\n",
      "60000/60000 [==============================] - 193s 3ms/step - loss: 0.1016 - val_loss: 0.1005\n",
      "Epoch 9/50\n",
      "60000/60000 [==============================] - 192s 3ms/step - loss: 0.1011 - val_loss: 0.1017\n",
      "Epoch 10/50\n",
      "60000/60000 [==============================] - 192s 3ms/step - loss: 0.1006 - val_loss: 0.0995\n",
      "Epoch 11/50\n",
      "60000/60000 [==============================] - 189s 3ms/step - loss: 0.1002 - val_loss: 0.0996\n",
      "Epoch 12/50\n",
      "60000/60000 [==============================] - 186s 3ms/step - loss: 0.0999 - val_loss: 0.0982\n",
      "Epoch 13/50\n",
      "60000/60000 [==============================] - 187s 3ms/step - loss: 0.0995 - val_loss: 0.0989\n",
      "Epoch 14/50\n",
      "60000/60000 [==============================] - 186s 3ms/step - loss: 0.0992 - val_loss: 0.0991\n",
      "Epoch 15/50\n",
      "60000/60000 [==============================] - 189s 3ms/step - loss: 0.0988 - val_loss: 0.0975\n",
      "Epoch 16/50\n",
      "60000/60000 [==============================] - 192s 3ms/step - loss: 0.0986 - val_loss: 0.0985\n",
      "Epoch 17/50\n",
      "60000/60000 [==============================] - 191s 3ms/step - loss: 0.0984 - val_loss: 0.0978\n",
      "Epoch 18/50\n",
      "60000/60000 [==============================] - 191s 3ms/step - loss: 0.0981 - val_loss: 0.0973\n",
      "Epoch 19/50\n",
      "60000/60000 [==============================] - 186s 3ms/step - loss: 0.0980 - val_loss: 0.0967\n",
      "Epoch 20/50\n",
      "60000/60000 [==============================] - 186s 3ms/step - loss: 0.0977 - val_loss: 0.0966\n",
      "Epoch 21/50\n",
      "60000/60000 [==============================] - 186s 3ms/step - loss: 0.0977 - val_loss: 0.0972\n",
      "Epoch 22/50\n",
      "60000/60000 [==============================] - 187s 3ms/step - loss: 0.0975 - val_loss: 0.0963\n",
      "Epoch 23/50\n",
      "60000/60000 [==============================] - 187s 3ms/step - loss: 0.0973 - val_loss: 0.0962\n",
      "Epoch 24/50\n",
      "60000/60000 [==============================] - 186s 3ms/step - loss: 0.0972 - val_loss: 0.0973\n",
      "Epoch 25/50\n",
      "60000/60000 [==============================] - 186s 3ms/step - loss: 0.0971 - val_loss: 0.0974\n",
      "Epoch 26/50\n",
      "60000/60000 [==============================] - 187s 3ms/step - loss: 0.0969 - val_loss: 0.0963\n",
      "Epoch 27/50\n",
      "60000/60000 [==============================] - 186s 3ms/step - loss: 0.0968 - val_loss: 0.0970\n",
      "Epoch 28/50\n",
      "60000/60000 [==============================] - 186s 3ms/step - loss: 0.0967 - val_loss: 0.0964\n",
      "Epoch 29/50\n",
      "60000/60000 [==============================] - 186s 3ms/step - loss: 0.0967 - val_loss: 0.0962\n",
      "Epoch 30/50\n",
      "60000/60000 [==============================] - 186s 3ms/step - loss: 0.0966 - val_loss: 0.0956\n",
      "Epoch 31/50\n",
      "60000/60000 [==============================] - 194s 3ms/step - loss: 0.0964 - val_loss: 0.0957\n",
      "Epoch 32/50\n",
      "60000/60000 [==============================] - 235s 4ms/step - loss: 0.0963 - val_loss: 0.0954\n",
      "Epoch 33/50\n",
      "60000/60000 [==============================] - 225s 4ms/step - loss: 0.0962 - val_loss: 0.0953\n",
      "Epoch 34/50\n",
      "60000/60000 [==============================] - 211s 4ms/step - loss: 0.0962 - val_loss: 0.0957\n",
      "Epoch 35/50\n",
      "60000/60000 [==============================] - 204s 3ms/step - loss: 0.0961 - val_loss: 0.0951\n",
      "Epoch 36/50\n",
      "60000/60000 [==============================] - 199s 3ms/step - loss: 0.0960 - val_loss: 0.0952\n",
      "Epoch 37/50\n",
      "60000/60000 [==============================] - 212s 4ms/step - loss: 0.0959 - val_loss: 0.0951\n",
      "Epoch 38/50\n",
      "60000/60000 [==============================] - 215s 4ms/step - loss: 0.0959 - val_loss: 0.0951\n",
      "Epoch 39/50\n",
      "60000/60000 [==============================] - 205s 3ms/step - loss: 0.0958 - val_loss: 0.0960\n",
      "Epoch 40/50\n",
      "60000/60000 [==============================] - 208s 3ms/step - loss: 0.0959 - val_loss: 0.0949\n",
      "Epoch 41/50\n",
      "60000/60000 [==============================] - 220s 4ms/step - loss: 0.0957 - val_loss: 0.0953\n",
      "Epoch 42/50\n",
      "60000/60000 [==============================] - 218s 4ms/step - loss: 0.0957 - val_loss: 0.0949\n",
      "Epoch 43/50\n",
      "60000/60000 [==============================] - 228s 4ms/step - loss: 0.0956 - val_loss: 0.0947\n",
      "Epoch 44/50\n",
      "60000/60000 [==============================] - 208s 3ms/step - loss: 0.0956 - val_loss: 0.0950\n",
      "Epoch 45/50\n",
      "60000/60000 [==============================] - 212s 4ms/step - loss: 0.0955 - val_loss: 0.0948\n",
      "Epoch 46/50\n",
      "60000/60000 [==============================] - 205s 3ms/step - loss: 0.0955 - val_loss: 0.0948\n",
      "Epoch 47/50\n",
      "60000/60000 [==============================] - 228s 4ms/step - loss: 0.0955 - val_loss: 0.0948\n",
      "Epoch 48/50\n",
      "60000/60000 [==============================] - 242s 4ms/step - loss: 0.0954 - val_loss: 0.0952\n",
      "Epoch 49/50\n",
      "60000/60000 [==============================] - 211s 4ms/step - loss: 0.0953 - val_loss: 0.0947\n",
      "Epoch 50/50\n",
      "60000/60000 [==============================] - 215s 4ms/step - loss: 0.0953 - val_loss: 0.0954\n"
     ]
    },
    {
     "data": {
      "text/plain": [
       "<keras.callbacks.callbacks.History at 0x2cd990d8e08>"
      ]
     },
     "execution_count": 15,
     "metadata": {},
     "output_type": "execute_result"
    }
   ],
   "source": [
    "autoencoder.fit(x_train_noisy, x_train,\n",
    "                epochs=50,\n",
    "                batch_size=128,\n",
    "                shuffle=True,\n",
    "                validation_data=(x_test_noisy, x_test),\n",
    "                )"
   ]
  },
  {
   "cell_type": "code",
   "execution_count": 21,
   "metadata": {},
   "outputs": [],
   "source": [
    "# encode and decode some digits\n",
    "# note that we take them from the *test* set\n",
    "encoded_noisy_imgs = encoder.predict(x_test_noisy)\n",
    "decoded_noisy_imgs = decoder.predict(encoded_imgs)"
   ]
  },
  {
   "cell_type": "code",
   "execution_count": 16,
   "metadata": {},
   "outputs": [],
   "source": [
    "from math import log10, sqrt \n",
    "import cv2 \n",
    "  \n",
    "def PSNR(original, compressed): \n",
    "    mse = np.mean((original - compressed) ** 2) \n",
    "    if(mse == 0):  # MSE is zero means no noise is present in the signal . \n",
    "                  # Therefore PSNR have no importance. \n",
    "        return 100\n",
    "    max_pixel = 255.0\n",
    "    psnr = 20 * log10(max_pixel / sqrt(mse)) \n",
    "    return psnr "
   ]
  },
  {
   "cell_type": "code",
   "execution_count": 19,
   "metadata": {},
   "outputs": [
    {
     "ename": "NameError",
     "evalue": "name 'original' is not defined",
     "output_type": "error",
     "traceback": [
      "\u001b[1;31m---------------------------------------------------------------------------\u001b[0m",
      "\u001b[1;31mNameError\u001b[0m                                 Traceback (most recent call last)",
      "\u001b[1;32m<ipython-input-19-0bebecda16a5>\u001b[0m in \u001b[0;36m<module>\u001b[1;34m\u001b[0m\n\u001b[1;32m----> 1\u001b[1;33m \u001b[0mvalue\u001b[0m \u001b[1;33m=\u001b[0m \u001b[0mPSNR\u001b[0m\u001b[1;33m(\u001b[0m\u001b[0moriginal\u001b[0m\u001b[1;33m,\u001b[0m \u001b[0mcompressed\u001b[0m\u001b[1;33m)\u001b[0m\u001b[1;33m\u001b[0m\u001b[1;33m\u001b[0m\u001b[0m\n\u001b[0m\u001b[0;32m      2\u001b[0m \u001b[0mprint\u001b[0m\u001b[1;33m(\u001b[0m\u001b[1;34mf'PSNR value is {value} dB'\u001b[0m\u001b[1;33m)\u001b[0m\u001b[1;33m\u001b[0m\u001b[1;33m\u001b[0m\u001b[0m\n",
      "\u001b[1;31mNameError\u001b[0m: name 'original' is not defined"
     ]
    }
   ],
   "source": [
    "value = PSNR(original, compressed) \n",
    "print(f'PSNR value is {value} dB') "
   ]
  },
  {
   "cell_type": "code",
   "execution_count": null,
   "metadata": {},
   "outputs": [],
   "source": [
    "n = 10\n",
    "plt.figure(figsize=(20, 4))\n",
    "for i in range(n):\n",
    "    # display original\n",
    "    ax = plt.subplot(2, n, i)\n",
    "    plt.imshow(x_test_noisy[i].reshape(28, 28))\n",
    "    plt.gray()\n",
    "    ax.get_xaxis().set_visible(False)\n",
    "    ax.get_yaxis().set_visible(False)\n",
    "\n",
    "    # display reconstruction\n",
    "    ax = plt.subplot(2, n, i + n)\n",
    "    plt.imshow(decoded_imgs[i].reshape(28, 28))\n",
    "    plt.gray()\n",
    "    ax.get_xaxis().set_visible(False)\n",
    "    ax.get_yaxis().set_visible(False)\n",
    "plt.show()"
   ]
  }
 ],
 "metadata": {
  "kernelspec": {
   "display_name": "Python 3",
   "language": "python",
   "name": "python3"
  },
  "language_info": {
   "codemirror_mode": {
    "name": "ipython",
    "version": 3
   },
   "file_extension": ".py",
   "mimetype": "text/x-python",
   "name": "python",
   "nbconvert_exporter": "python",
   "pygments_lexer": "ipython3",
   "version": "3.7.7"
  }
 },
 "nbformat": 4,
 "nbformat_minor": 4
}
