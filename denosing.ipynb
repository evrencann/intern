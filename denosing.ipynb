{
 "cells": [
  {
   "cell_type": "code",
   "execution_count": 1,
   "metadata": {},
   "outputs": [],
   "source": [
    "from tensorflow.keras.layers import Input, Dense, Conv2D, MaxPooling2D, UpSampling2D\n",
    "from tensorflow.keras.models import Model\n",
    "from tensorflow.keras import preprocessing\n",
    "from tensorflow.keras import backend as K\n",
    "from tensorflow.keras.preprocessing.image import ImageDataGenerator\n",
    "from math import log10, sqrt \n",
    "import numpy as np\n",
    "import matplotlib.pyplot as plt"
   ]
  },
  {
   "cell_type": "code",
   "execution_count": 2,
   "metadata": {},
   "outputs": [],
   "source": [
    "train_path = 'D:\\\\intern\\\\classified_data\\\\clean_data'\n",
    "db15_path = 'D:\\\\intern\\\\classified_data\\\\noisy_data\\\\15dB'\n",
    "db20_path = 'D:\\\\intern\\\\classified_data\\\\noisy_data\\\\20dB'"
   ]
  },
  {
   "cell_type": "code",
   "execution_count": 3,
   "metadata": {},
   "outputs": [
    {
     "name": "stdout",
     "output_type": "stream",
     "text": [
      "Found 69071 images belonging to 1 classes.\n",
      "Found 69075 images belonging to 1 classes.\n",
      "Found 69075 images belonging to 1 classes.\n"
     ]
    }
   ],
   "source": [
    "train_batches = ImageDataGenerator().flow_from_directory(train_path, target_size=(28,28), batch_size=69071)\n",
    "db15_batches = ImageDataGenerator().flow_from_directory(db15_path, target_size=(28,28), batch_size=69071)\n",
    "db20_batches = ImageDataGenerator().flow_from_directory(db20_path, target_size=(28,28), batch_size=69075)"
   ]
  },
  {
   "cell_type": "code",
   "execution_count": 4,
   "metadata": {},
   "outputs": [],
   "source": [
    "train_imgs, train_labels = next(train_batches)\n",
    "db15_imgs, db15_labels = next(db15_batches)\n",
    "db20_imgs, db20_labels = next(db20_batches)"
   ]
  },
  {
   "cell_type": "code",
   "execution_count": 5,
   "metadata": {},
   "outputs": [
    {
     "name": "stdout",
     "output_type": "stream",
     "text": [
      "69071\n",
      "69071\n",
      "69071\n"
     ]
    }
   ],
   "source": [
    "print(len(train_imgs))\n",
    "print(len(db15_imgs))\n",
    "print(len(db15_imgs))"
   ]
  },
  {
   "cell_type": "code",
   "execution_count": 6,
   "metadata": {},
   "outputs": [],
   "source": [
    "x_train = train_imgs.astype('float32') / 255.\n",
    "db15_train = db15_imgs.astype('float32') / 255.\n",
    "db20_test = db20_imgs.astype('float32') / 255.\n",
    "\n",
    "\n",
    "###############################\n",
    "x_train = np.reshape(x_train, (len(x_train), 28, 28, 3))  # adapt this if using `channels_first` image data format\n",
    "db15_train = np.reshape(db15_train, (len(db15_train), 28, 28, 3))  # adapt this if using `channels_first` image data format\n",
    "db20_test = np.reshape(db20_test, (len(db20_test), 28, 28, 3))"
   ]
  },
  {
   "cell_type": "code",
   "execution_count": 7,
   "metadata": {},
   "outputs": [
    {
     "data": {
      "image/png": "[encoded data removed]",
      "text/plain": [
       "<Figure size 1440x144 with 10 Axes>"
      ]
     },
     "metadata": {
      "needs_background": "light"
     },
     "output_type": "display_data"
    }
   ],
   "source": [
    "n = 10\n",
    "plt.figure(figsize=(20, 2))\n",
    "for i in range(n):\n",
    "    ax = plt.subplot(1, n, i+1)\n",
    "    plt.imshow(x_train[i])\n",
    "    plt.gray()\n",
    "    ax.get_xaxis().set_visible(False)\n",
    "    ax.get_yaxis().set_visible(False)\n",
    "plt.show()"
   ]
  },
  {
   "cell_type": "code",
   "execution_count": 8,
   "metadata": {},
   "outputs": [],
   "source": [
    "#################################\n",
    "input_img = Input(shape=(28, 28, 3))  # adapt this if using `channels_first` image data format\n",
    "\n",
    "x = Conv2D(32, (3, 3), activation='relu', padding='same')(input_img)\n",
    "x = MaxPooling2D((2, 2), padding='same')(x)\n",
    "x = Conv2D(32, (3, 3), activation='relu', padding='same')(x)\n",
    "encoded = MaxPooling2D((2, 2), padding='same')(x)\n",
    "\n",
    "# at this point the representation is (7, 7, 32)\n",
    "\n",
    "x = Conv2D(32, (3, 3), activation='relu', padding='same')(encoded)\n",
    "x = UpSampling2D((2, 2))(x)\n",
    "x = Conv2D(32, (3, 3), activation='relu', padding='same')(x)\n",
    "x = UpSampling2D((2, 2))(x)\n",
    "##################################\n",
    "decoded = Conv2D(3, (3, 3), activation='sigmoid', padding='same')(x)\n",
    "\n",
    "autoencoder = Model(input_img, decoded)\n",
    "autoencoder.compile(optimizer='adadelta', loss='binary_crossentropy')"
   ]
  },
  {
   "cell_type": "code",
   "execution_count": 13,
   "metadata": {},
   "outputs": [
    {
     "name": "stdout",
     "output_type": "stream",
     "text": [
      "Train on 69071 samples, validate on 69075 samples\n",
      "Epoch 1/100\n",
      "69071/69071 [==============================] - 252s 4ms/sample - loss: 0.6832 - val_loss: 0.6887\n",
      "Epoch 2/100\n",
      "69071/69071 [==============================] - 254s 4ms/sample - loss: 0.6823 - val_loss: 0.6882\n",
      "Epoch 3/100\n",
      "69071/69071 [==============================] - 254s 4ms/sample - loss: 0.6814 - val_loss: 0.6876\n",
      "Epoch 4/100\n",
      "69071/69071 [==============================] - 251s 4ms/sample - loss: 0.6805 - val_loss: 0.6871\n",
      "Epoch 5/100\n",
      "69071/69071 [==============================] - 251s 4ms/sample - loss: 0.6795 - val_loss: 0.6865\n",
      "Epoch 6/100\n",
      "69071/69071 [==============================] - 270s 4ms/sample - loss: 0.6786 - val_loss: 0.6861\n",
      "Epoch 7/100\n",
      "69071/69071 [==============================] - 263s 4ms/sample - loss: 0.6777 - val_loss: 0.6857\n",
      "Epoch 8/100\n",
      "69071/69071 [==============================] - 305s 4ms/sample - loss: 0.6768 - val_loss: 0.6855\n",
      "Epoch 9/100\n",
      "69071/69071 [==============================] - 293s 4ms/sample - loss: 0.6761 - val_loss: 0.6853\n",
      "Epoch 10/100\n",
      "69071/69071 [==============================] - 255s 4ms/sample - loss: 0.6755 - val_loss: 0.6852\n",
      "Epoch 11/100\n",
      "69071/69071 [==============================] - 250s 4ms/sample - loss: 0.6750 - val_loss: 0.6852\n",
      "Epoch 12/100\n",
      "69071/69071 [==============================] - 265s 4ms/sample - loss: 0.6746 - val_loss: 0.6853\n",
      "Epoch 13/100\n",
      "69071/69071 [==============================] - 259s 4ms/sample - loss: 0.6743 - val_loss: 0.6853\n",
      "Epoch 14/100\n",
      "69071/69071 [==============================] - 249s 4ms/sample - loss: 0.6740 - val_loss: 0.6854\n",
      "Epoch 15/100\n",
      "69071/69071 [==============================] - 264s 4ms/sample - loss: 0.6738 - val_loss: 0.6854\n",
      "Epoch 16/100\n",
      "69071/69071 [==============================] - 258s 4ms/sample - loss: 0.6736 - val_loss: 0.6854\n",
      "Epoch 17/100\n",
      "69071/69071 [==============================] - 250s 4ms/sample - loss: 0.6734 - val_loss: 0.6854\n",
      "Epoch 18/100\n",
      "69071/69071 [==============================] - 249s 4ms/sample - loss: 0.6733 - val_loss: 0.6854\n",
      "Epoch 19/100\n",
      "69071/69071 [==============================] - 249s 4ms/sample - loss: 0.6731 - val_loss: 0.6854\n",
      "Epoch 20/100\n",
      "69071/69071 [==============================] - 251s 4ms/sample - loss: 0.6730 - val_loss: 0.6853\n",
      "Epoch 21/100\n",
      "69071/69071 [==============================] - 272s 4ms/sample - loss: 0.6729 - val_loss: 0.6853\n",
      "Epoch 22/100\n",
      "69071/69071 [==============================] - 249s 4ms/sample - loss: 0.6728 - val_loss: 0.6853\n",
      "Epoch 23/100\n",
      "69071/69071 [==============================] - 303s 4ms/sample - loss: 0.6727 - val_loss: 0.6853\n",
      "Epoch 24/100\n",
      "69071/69071 [==============================] - 277s 4ms/sample - loss: 0.6726 - val_loss: 0.6853\n",
      "Epoch 25/100\n",
      "69071/69071 [==============================] - 258s 4ms/sample - loss: 0.6725 - val_loss: 0.6852\n",
      "Epoch 26/100\n",
      "69071/69071 [==============================] - 304s 4ms/sample - loss: 0.6725 - val_loss: 0.6853\n",
      "Epoch 27/100\n",
      "69071/69071 [==============================] - 272s 4ms/sample - loss: 0.6724 - val_loss: 0.6852\n",
      "Epoch 28/100\n",
      "69071/69071 [==============================] - 258s 4ms/sample - loss: 0.6723 - val_loss: 0.6852\n",
      "Epoch 29/100\n",
      "69071/69071 [==============================] - 257s 4ms/sample - loss: 0.6723 - val_loss: 0.6852\n",
      "Epoch 30/100\n",
      "69071/69071 [==============================] - 258s 4ms/sample - loss: 0.6722 - val_loss: 0.6851\n",
      "Epoch 31/100\n",
      "69071/69071 [==============================] - 271s 4ms/sample - loss: 0.6722 - val_loss: 0.6851\n",
      "Epoch 32/100\n",
      "69071/69071 [==============================] - 299s 4ms/sample - loss: 0.6721 - val_loss: 0.6851\n",
      "Epoch 33/100\n",
      "69071/69071 [==============================] - 309s 4ms/sample - loss: 0.6720 - val_loss: 0.6851\n",
      "Epoch 34/100\n",
      "69071/69071 [==============================] - 421s 6ms/sample - loss: 0.6720 - val_loss: 0.6850\n",
      "Epoch 35/100\n",
      "69071/69071 [==============================] - 404s 6ms/sample - loss: 0.6720 - val_loss: 0.6851\n",
      "Epoch 36/100\n",
      "69071/69071 [==============================] - 409s 6ms/sample - loss: 0.6719 - val_loss: 0.6851\n",
      "Epoch 37/100\n",
      "69071/69071 [==============================] - 380s 6ms/sample - loss: 0.6719 - val_loss: 0.6850\n",
      "Epoch 38/100\n",
      "69071/69071 [==============================] - 370s 5ms/sample - loss: 0.6718 - val_loss: 0.6850\n",
      "Epoch 39/100\n",
      "69071/69071 [==============================] - 410s 6ms/sample - loss: 0.6718 - val_loss: 0.6849\n",
      "Epoch 40/100\n",
      "69071/69071 [==============================] - 452s 7ms/sample - loss: 0.6718 - val_loss: 0.6850\n",
      "Epoch 41/100\n",
      "69071/69071 [==============================] - 413s 6ms/sample - loss: 0.6717 - val_loss: 0.6850\n",
      "Epoch 42/100\n",
      "69071/69071 [==============================] - 408s 6ms/sample - loss: 0.6717 - val_loss: 0.6850\n",
      "Epoch 43/100\n",
      "69071/69071 [==============================] - 389s 6ms/sample - loss: 0.6717 - val_loss: 0.6850\n",
      "Epoch 44/100\n",
      "69071/69071 [==============================] - 352s 5ms/sample - loss: 0.6716 - val_loss: 0.6849\n",
      "Epoch 45/100\n",
      "69071/69071 [==============================] - 268s 4ms/sample - loss: 0.6716 - val_loss: 0.6849\n",
      "Epoch 46/100\n",
      "69071/69071 [==============================] - 267s 4ms/sample - loss: 0.6716 - val_loss: 0.6849\n",
      "Epoch 47/100\n",
      "69071/69071 [==============================] - 267s 4ms/sample - loss: 0.6716 - val_loss: 0.6849\n",
      "Epoch 48/100\n",
      "69071/69071 [==============================] - 267s 4ms/sample - loss: 0.6715 - val_loss: 0.6849\n",
      "Epoch 49/100\n",
      "69071/69071 [==============================] - 267s 4ms/sample - loss: 0.6715 - val_loss: 0.6850\n",
      "Epoch 50/100\n",
      "69071/69071 [==============================] - 267s 4ms/sample - loss: 0.6715 - val_loss: 0.6850\n",
      "Epoch 51/100\n",
      "69071/69071 [==============================] - 266s 4ms/sample - loss: 0.6715 - val_loss: 0.6850\n",
      "Epoch 52/100\n",
      "69071/69071 [==============================] - 267s 4ms/sample - loss: 0.6714 - val_loss: 0.6850\n",
      "Epoch 53/100\n",
      "69071/69071 [==============================] - 276s 4ms/sample - loss: 0.6714 - val_loss: 0.6849\n",
      "Epoch 54/100\n",
      "69071/69071 [==============================] - 276s 4ms/sample - loss: 0.6714 - val_loss: 0.6849\n",
      "Epoch 55/100\n",
      "69071/69071 [==============================] - 275s 4ms/sample - loss: 0.6714 - val_loss: 0.6849\n",
      "Epoch 56/100\n",
      "69071/69071 [==============================] - 276s 4ms/sample - loss: 0.6713 - val_loss: 0.6849\n",
      "Epoch 57/100\n",
      "69071/69071 [==============================] - 272s 4ms/sample - loss: 0.6713 - val_loss: 0.6849\n",
      "Epoch 58/100\n",
      "69071/69071 [==============================] - 271s 4ms/sample - loss: 0.6713 - val_loss: 0.6849\n",
      "Epoch 59/100\n",
      "69071/69071 [==============================] - 271s 4ms/sample - loss: 0.6713 - val_loss: 0.6849\n",
      "Epoch 60/100\n",
      "69071/69071 [==============================] - 275s 4ms/sample - loss: 0.6713 - val_loss: 0.6849\n",
      "Epoch 61/100\n",
      "69071/69071 [==============================] - 272s 4ms/sample - loss: 0.6713 - val_loss: 0.6849\n",
      "Epoch 62/100\n",
      "69071/69071 [==============================] - 272s 4ms/sample - loss: 0.6712 - val_loss: 0.6849\n",
      "Epoch 63/100\n",
      "69071/69071 [==============================] - 273s 4ms/sample - loss: 0.6712 - val_loss: 0.6849\n",
      "Epoch 64/100\n",
      "69071/69071 [==============================] - 272s 4ms/sample - loss: 0.6712 - val_loss: 0.6849\n",
      "Epoch 65/100\n",
      "69071/69071 [==============================] - 273s 4ms/sample - loss: 0.6712 - val_loss: 0.6849\n",
      "Epoch 66/100\n",
      "69071/69071 [==============================] - 271s 4ms/sample - loss: 0.6712 - val_loss: 0.6849\n",
      "Epoch 67/100\n",
      "69071/69071 [==============================] - 272s 4ms/sample - loss: 0.6712 - val_loss: 0.6849\n",
      "Epoch 68/100\n",
      "69071/69071 [==============================] - 272s 4ms/sample - loss: 0.6711 - val_loss: 0.6849\n",
      "Epoch 69/100\n",
      "69071/69071 [==============================] - 272s 4ms/sample - loss: 0.6711 - val_loss: 0.6849\n",
      "Epoch 70/100\n",
      "69071/69071 [==============================] - 272s 4ms/sample - loss: 0.6711 - val_loss: 0.6849\n",
      "Epoch 71/100\n",
      "69071/69071 [==============================] - 271s 4ms/sample - loss: 0.6711 - val_loss: 0.6849\n",
      "Epoch 72/100\n",
      "69071/69071 [==============================] - 272s 4ms/sample - loss: 0.6711 - val_loss: 0.6849\n",
      "Epoch 73/100\n",
      "69071/69071 [==============================] - 270s 4ms/sample - loss: 0.6711 - val_loss: 0.6849\n",
      "Epoch 74/100\n",
      "69071/69071 [==============================] - 272s 4ms/sample - loss: 0.6710 - val_loss: 0.6849\n",
      "Epoch 75/100\n"
     ]
    },
    {
     "name": "stdout",
     "output_type": "stream",
     "text": [
      "69071/69071 [==============================] - 271s 4ms/sample - loss: 0.6710 - val_loss: 0.6849\n",
      "Epoch 76/100\n",
      "69071/69071 [==============================] - 271s 4ms/sample - loss: 0.6710 - val_loss: 0.6849\n",
      "Epoch 77/100\n",
      "69071/69071 [==============================] - 272s 4ms/sample - loss: 0.6710 - val_loss: 0.6849\n",
      "Epoch 78/100\n",
      "69071/69071 [==============================] - 272s 4ms/sample - loss: 0.6710 - val_loss: 0.6849\n",
      "Epoch 79/100\n",
      "69071/69071 [==============================] - 273s 4ms/sample - loss: 0.6710 - val_loss: 0.6849\n",
      "Epoch 80/100\n",
      "69071/69071 [==============================] - 273s 4ms/sample - loss: 0.6710 - val_loss: 0.6849\n",
      "Epoch 81/100\n",
      "69071/69071 [==============================] - 272s 4ms/sample - loss: 0.6710 - val_loss: 0.6849\n",
      "Epoch 82/100\n",
      "69071/69071 [==============================] - 271s 4ms/sample - loss: 0.6709 - val_loss: 0.6849\n",
      "Epoch 83/100\n",
      "69071/69071 [==============================] - 273s 4ms/sample - loss: 0.6709 - val_loss: 0.6849\n",
      "Epoch 84/100\n",
      "69071/69071 [==============================] - 271s 4ms/sample - loss: 0.6709 - val_loss: 0.6849\n",
      "Epoch 85/100\n",
      "69071/69071 [==============================] - 272s 4ms/sample - loss: 0.6709 - val_loss: 0.6849\n",
      "Epoch 86/100\n",
      "69071/69071 [==============================] - 276s 4ms/sample - loss: 0.6709 - val_loss: 0.6849\n",
      "Epoch 87/100\n",
      "69071/69071 [==============================] - 278s 4ms/sample - loss: 0.6709 - val_loss: 0.6850\n",
      "Epoch 88/100\n",
      "69071/69071 [==============================] - 273s 4ms/sample - loss: 0.6709 - val_loss: 0.6849\n",
      "Epoch 89/100\n",
      "69071/69071 [==============================] - 274s 4ms/sample - loss: 0.6709 - val_loss: 0.6850\n",
      "Epoch 90/100\n",
      "69071/69071 [==============================] - 274s 4ms/sample - loss: 0.6709 - val_loss: 0.6850\n",
      "Epoch 91/100\n",
      "69071/69071 [==============================] - 275s 4ms/sample - loss: 0.6708 - val_loss: 0.6850\n",
      "Epoch 92/100\n",
      "69071/69071 [==============================] - 275s 4ms/sample - loss: 0.6708 - val_loss: 0.6849\n",
      "Epoch 93/100\n",
      "69071/69071 [==============================] - 275s 4ms/sample - loss: 0.6708 - val_loss: 0.6849\n",
      "Epoch 94/100\n",
      "69071/69071 [==============================] - 276s 4ms/sample - loss: 0.6708 - val_loss: 0.6849\n",
      "Epoch 95/100\n",
      "69071/69071 [==============================] - 276s 4ms/sample - loss: 0.6708 - val_loss: 0.6850\n",
      "Epoch 96/100\n",
      "69071/69071 [==============================] - 278s 4ms/sample - loss: 0.6708 - val_loss: 0.6850\n",
      "Epoch 97/100\n",
      "69071/69071 [==============================] - 278s 4ms/sample - loss: 0.6708 - val_loss: 0.6850\n",
      "Epoch 98/100\n",
      "69071/69071 [==============================] - 279s 4ms/sample - loss: 0.6708 - val_loss: 0.6850\n",
      "Epoch 99/100\n",
      "69071/69071 [==============================] - 278s 4ms/sample - loss: 0.6708 - val_loss: 0.6850\n",
      "Epoch 100/100\n",
      "69071/69071 [==============================] - 276s 4ms/sample - loss: 0.6708 - val_loss: 0.6850\n"
     ]
    },
    {
     "data": {
      "text/plain": [
       "<tensorflow.python.keras.callbacks.History at 0x207a2e016c8>"
      ]
     },
     "execution_count": 13,
     "metadata": {},
     "output_type": "execute_result"
    }
   ],
   "source": [
    "autoencoder.fit(db15_train, x_train,\n",
    "                epochs=100,\n",
    "                batch_size=128,\n",
    "                shuffle=True,\n",
    "                validation_data=(db20_test, db20_test)\n",
    "                )"
   ]
  },
  {
   "cell_type": "code",
   "execution_count": 14,
   "metadata": {},
   "outputs": [],
   "source": [
    "decoded_imgs = autoencoder.predict(db20_test)"
   ]
  },
  {
   "cell_type": "code",
   "execution_count": 15,
   "metadata": {},
   "outputs": [],
   "source": [
    "def PSNR(original, compressed): \n",
    "    mse = np.mean((original - compressed) ** 2) \n",
    "    if(mse == 0):  # MSE is zero means no noise is present in the signal . \n",
    "                  # Therefore PSNR have no importance. \n",
    "        return 100\n",
    "    max_pixel = 255.0\n",
    "    psnr = 20 * log10(max_pixel / sqrt(mse)) \n",
    "    return psnr"
   ]
  },
  {
   "cell_type": "code",
   "execution_count": 16,
   "metadata": {},
   "outputs": [
    {
     "name": "stdout",
     "output_type": "stream",
     "text": [
      "PSNR value is 65.82948825283428 dB\n",
      "PSNR value is 66.22432203903513 dB\n",
      "PSNR value is 66.45773641829747 dB\n",
      "PSNR value is 66.17477092530932 dB\n",
      "PSNR value is 65.19189721822234 dB\n",
      "PSNR value is 66.15490558290232 dB\n",
      "PSNR value is 66.49547205324319 dB\n",
      "PSNR value is 66.40818815980352 dB\n",
      "PSNR value is 67.59678663957413 dB\n",
      "PSNR value is 68.68452428530895 dB\n"
     ]
    }
   ],
   "source": [
    "n = 10\n",
    "\n",
    "for i in range(n):\n",
    "    \n",
    "    value = PSNR(db20_test[i], decoded_imgs[i]) \n",
    "    print(f\"PSNR value is {value} dB\")"
   ]
  },
  {
   "cell_type": "code",
   "execution_count": null,
   "metadata": {},
   "outputs": [],
   "source": []
  }
 ],
 "metadata": {
  "kernelspec": {
   "display_name": "Python 3",
   "language": "python",
   "name": "python3"
  },
  "language_info": {
   "codemirror_mode": {
    "name": "ipython",
    "version": 3
   },
   "file_extension": ".py",
   "mimetype": "text/x-python",
   "name": "python",
   "nbconvert_exporter": "python",
   "pygments_lexer": "ipython3",
   "version": "3.7.7"
  }
 },
 "nbformat": 4,
 "nbformat_minor": 4
}
